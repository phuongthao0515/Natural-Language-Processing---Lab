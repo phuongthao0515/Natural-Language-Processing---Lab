{
 "cells": [
  {
   "cell_type": "markdown",
   "metadata": {
    "id": "iVB1vxOHksbZ"
   },
   "source": [
    "### Import Libraries"
   ]
  },
  {
   "cell_type": "code",
   "execution_count": null,
   "metadata": {
    "execution": {
     "iopub.execute_input": "2025-03-20T03:24:43.060764Z",
     "iopub.status.busy": "2025-03-20T03:24:43.060366Z",
     "iopub.status.idle": "2025-03-20T03:24:55.588214Z",
     "shell.execute_reply": "2025-03-20T03:24:55.587554Z",
     "shell.execute_reply.started": "2025-03-20T03:24:43.060729Z"
    },
    "id": "pgLtB3VLkr8B",
    "trusted": true
   },
   "outputs": [],
   "source": [
    "# import neccessary libraries\n",
    "import tensorflow as tf\n",
    "from tensorflow import keras\n",
    "from tensorflow.keras import layers, Model, regularizers\n",
    "from sklearn.model_selection import train_test_split\n",
    "from keras.layers import Layer\n",
    "from tensorflow.keras import activations\n",
    "import matplotlib.pyplot as plt\n",
    "import numpy as np\n",
    "import pandas as pd\n",
    "import zipfile"
   ]
  },
  {
   "cell_type": "markdown",
   "metadata": {
    "id": "CnqYaDkLlDlo"
   },
   "source": [
    "## Data Downloading"
   ]
  },
  {
   "cell_type": "code",
   "execution_count": 2,
   "metadata": {
    "execution": {
     "iopub.execute_input": "2025-03-20T03:24:55.589595Z",
     "iopub.status.busy": "2025-03-20T03:24:55.589128Z",
     "iopub.status.idle": "2025-03-20T03:24:55.592778Z",
     "shell.execute_reply": "2025-03-20T03:24:55.591976Z",
     "shell.execute_reply.started": "2025-03-20T03:24:55.589573Z"
    },
    "id": "amc7bmLakrxL",
    "trusted": true
   },
   "outputs": [],
   "source": [
    "# zip_path = \"/kaggle/input/digit-recognizer\"\n",
    "# extract_to = \"data/\"\n",
    "# # open the zip file\n",
    "# with zipfile.ZipFile(zip_path, 'r') as zip_ref:\n",
    "#     # extract specific files\n",
    "#     zip_ref.extract(\"train.csv\", extract_to)\n",
    "#     zip_ref.extract(\"test.csv\", extract_to)"
   ]
  },
  {
   "cell_type": "code",
   "execution_count": 3,
   "metadata": {
    "execution": {
     "iopub.execute_input": "2025-03-20T03:24:55.594470Z",
     "iopub.status.busy": "2025-03-20T03:24:55.594236Z",
     "iopub.status.idle": "2025-03-20T03:25:00.289554Z",
     "shell.execute_reply": "2025-03-20T03:25:00.288891Z",
     "shell.execute_reply.started": "2025-03-20T03:24:55.594451Z"
    },
    "id": "zKOma7EMloBQ",
    "trusted": true
   },
   "outputs": [],
   "source": [
    "# take the train data and test data\n",
    "train_data = pd.read_csv(\"/kaggle/input/digit-recognizer/train.csv\")\n",
    "test_data = pd.read_csv(\"/kaggle/input/digit-recognizer/test.csv\")"
   ]
  },
  {
   "cell_type": "code",
   "execution_count": null,
   "metadata": {
    "id": "FGTDYYQ7m-Pa",
    "trusted": true
   },
   "outputs": [],
   "source": []
  },
  {
   "cell_type": "markdown",
   "metadata": {
    "id": "uW4AnmaAn_4J"
   },
   "source": [
    "## Data Preprocessing"
   ]
  },
  {
   "cell_type": "code",
   "execution_count": null,
   "metadata": {
    "execution": {
     "iopub.execute_input": "2025-03-20T03:25:00.290955Z",
     "iopub.status.busy": "2025-03-20T03:25:00.290718Z",
     "iopub.status.idle": "2025-03-20T03:25:00.537006Z",
     "shell.execute_reply": "2025-03-20T03:25:00.536337Z",
     "shell.execute_reply.started": "2025-03-20T03:25:00.290936Z"
    },
    "id": "DLEGaDjEn_b8",
    "trusted": true
   },
   "outputs": [],
   "source": [
    "# drop the 'label' column from the training dataset and normalize pixel values\n",
    "X_train = train_data.drop('label', axis=1).values.astype('float32') / 255.0\n",
    "# extract the 'label' column from the training dataset\n",
    "y_train = train_data['label'].values\n",
    "\n",
    "# normalize pixel values\n",
    "X_test = test_data.values.astype('float32') / 255.0"
   ]
  },
  {
   "cell_type": "markdown",
   "metadata": {
    "id": "-WyWWf6IlMeM"
   },
   "source": [
    "## Build Model"
   ]
  },
  {
   "cell_type": "code",
   "execution_count": null,
   "metadata": {
    "execution": {
     "iopub.execute_input": "2025-03-20T03:25:00.538150Z",
     "iopub.status.busy": "2025-03-20T03:25:00.537848Z",
     "iopub.status.idle": "2025-03-20T03:25:00.544250Z",
     "shell.execute_reply": "2025-03-20T03:25:00.543557Z",
     "shell.execute_reply.started": "2025-03-20T03:25:00.538122Z"
    },
    "id": "iB471Oa_krkt",
    "trusted": true
   },
   "outputs": [],
   "source": [
    "class ResidualBlock(layers.Layer):\n",
    "    def __init__(self, units, dropout_rate=0.3, **kwargs):  # Add **kwargs\n",
    "        super().__init__(**kwargs)  # Pass kwargs to parent\n",
    "        self.units = units\n",
    "        self.dropout_rate = dropout_rate\n",
    "\n",
    "        # first fully connected layer with GELU activation and L2 regularization\n",
    "        self.dense1 = layers.Dense(units, activation=activations.gelu, \n",
    "                                   kernel_regularizer=regularizers.l2(5e-5))\n",
    "        \n",
    "        # dropout layer to prevent overfitting by randomly deactivating neurons during training\n",
    "        self.dropout1 = layers.Dropout(dropout_rate)\n",
    "\n",
    "         # second fully connected layer with GELU activation and L2 regularization\n",
    "        self.dense2 = layers.Dense(units, activation=activations.gelu,\n",
    "                                 kernel_regularizer=regularizers.l2(5e-5))\n",
    "        \n",
    "        # dropout layer to prevent overfitting by randomly deactivating neurons during training\n",
    "        self.dropout2 = layers.Dropout(dropout_rate)\n",
    "        \n",
    "        # layer for element-wise addition (skip connection)\n",
    "        self.skip_add = layers.Add()\n",
    "\n",
    "    def call(self, inputs, training=False):\n",
    "        # forward pass through the first dense and dropout layers\n",
    "        x = self.dense1(inputs)\n",
    "        x = self.dropout1(x, training=training)\n",
    "\n",
    "        # forward pass through the second dense and dropout layers\n",
    "        x = self.dense2(x)\n",
    "        x = self.dropout2(x, training=training)\n",
    "\n",
    "        # add the residual connection: output = x + inputs\n",
    "        return self.skip_add([x, inputs])\n",
    "\n",
    "    # allow saving and reloading the layer configuration\n",
    "    def get_config(self):\n",
    "        # get the base configuration from the parent class\n",
    "        config = super().get_config()\n",
    "        # add custom parameters for serialization\n",
    "        config.update({\n",
    "            'units': self.units,\n",
    "            'dropout_rate': self.dropout_rate\n",
    "        })\n",
    "        return config\n"
   ]
  },
  {
   "cell_type": "code",
   "execution_count": null,
   "metadata": {
    "execution": {
     "iopub.execute_input": "2025-03-20T03:25:00.545261Z",
     "iopub.status.busy": "2025-03-20T03:25:00.545065Z",
     "iopub.status.idle": "2025-03-20T03:25:00.563538Z",
     "shell.execute_reply": "2025-03-20T03:25:00.562895Z",
     "shell.execute_reply.started": "2025-03-20T03:25:00.545242Z"
    },
    "id": "Wxsaf8GkpCjY",
    "trusted": true
   },
   "outputs": [],
   "source": [
    "def build_model(input_shape):\n",
    "    inputs = layers.Input(shape=input_shape)\n",
    "\n",
    "    # initial projection\n",
    "    x = layers.Dense(1024, activation=None, kernel_regularizer=regularizers.l2(5e-5))(inputs)\n",
    "    # Batch Normalization\n",
    "    x = layers.BatchNormalization()(x)\n",
    "    # use gelu as activation function\n",
    "    x = layers.Activation(activations.gelu)(x)\n",
    "    # dropout layer 30%\n",
    "    x = layers.Dropout(0.3)(x)\n",
    "\n",
    "    # add residual blocks\n",
    "    for _ in range(3):  # increase depth\n",
    "        x = ResidualBlock(1024)(x)\n",
    "\n",
    "    # final classifier\n",
    "    # fully connected layer with 256 neurons and GELU activation\n",
    "    x = layers.Dense(256, activation=activations.gelu)(x) \n",
    "    x = layers.Dropout(0.3)(x)\n",
    "    \n",
    "    # output layer: fully connected and softmax activation\n",
    "    outputs = layers.Dense(10, activation='softmax')(x)\n",
    "\n",
    "    return Model(inputs, outputs)"
   ]
  },
  {
   "cell_type": "code",
   "execution_count": null,
   "metadata": {
    "execution": {
     "iopub.execute_input": "2025-03-20T03:25:00.564622Z",
     "iopub.status.busy": "2025-03-20T03:25:00.564357Z",
     "iopub.status.idle": "2025-03-20T03:25:02.855181Z",
     "shell.execute_reply": "2025-03-20T03:25:02.854535Z",
     "shell.execute_reply.started": "2025-03-20T03:25:00.564594Z"
    },
    "id": "41U17UVRpQKE",
    "trusted": true
   },
   "outputs": [],
   "source": [
    "# create and compile model with input_shape = 784\n",
    "model = build_model((784,))\n",
    "\n",
    "# compile the model with:\n",
    "# - Adam optimizer: learning rate of 3e-4\n",
    "# - Sparse categorical crossentropy loss\n",
    "# - Accuracy metric\n",
    "model.compile(\n",
    "    optimizer=tf.keras.optimizers.Adam(learning_rate=3e-4),\n",
    "    loss='sparse_categorical_crossentropy',\n",
    "    metrics=['accuracy']\n",
    ")\n",
    "\n",
    "# Callbacks using early stopping, model checkpoint and reduceLROnPlateau\n",
    "# model checkpoint: save the best model (based on validation performance) to a file\n",
    "# ReduceLROnPlateau: reduce the learning rate by a factor of 0.5 if validation loss \n",
    "callbacks = [\n",
    "    tf.keras.callbacks.EarlyStopping(patience=10, restore_best_weights=True),\n",
    "    tf.keras.callbacks.ModelCheckpoint('best_model.keras', save_best_only=True),\n",
    "    tf.keras.callbacks.ReduceLROnPlateau(factor=0.5, patience=3)\n",
    "]"
   ]
  },
  {
   "cell_type": "markdown",
   "metadata": {
    "id": "bqQaBOLNpSH2"
   },
   "source": [
    "## Train Model"
   ]
  },
  {
   "cell_type": "code",
   "execution_count": null,
   "metadata": {
    "colab": {
     "background_save": true,
     "base_uri": "https://localhost:8080/"
    },
    "execution": {
     "iopub.execute_input": "2025-03-20T03:25:02.862250Z",
     "iopub.status.busy": "2025-03-20T03:25:02.862059Z",
     "iopub.status.idle": "2025-03-20T03:26:35.449611Z",
     "shell.execute_reply": "2025-03-20T03:26:35.448903Z",
     "shell.execute_reply.started": "2025-03-20T03:25:02.862231Z"
    },
    "id": "XHTjBpu_pRjr",
    "outputId": "ed3772e6-187a-47d5-d195-132d3b844cbc",
    "trusted": true
   },
   "outputs": [
    {
     "name": "stdout",
     "output_type": "stream",
     "text": [
      "Epoch 1/100\n",
      "\u001b[1m33/33\u001b[0m \u001b[32m━━━━━━━━━━━━━━━━━━━━\u001b[0m\u001b[37m\u001b[0m \u001b[1m16s\u001b[0m 235ms/step - accuracy: 0.5924 - loss: 1.8010 - val_accuracy: 0.8648 - val_loss: 1.2381 - learning_rate: 3.0000e-04\n",
      "Epoch 2/100\n",
      "\u001b[1m33/33\u001b[0m \u001b[32m━━━━━━━━━━━━━━━━━━━━\u001b[0m\u001b[37m\u001b[0m \u001b[1m1s\u001b[0m 27ms/step - accuracy: 0.9123 - loss: 0.6331 - val_accuracy: 0.9224 - val_loss: 0.9700 - learning_rate: 3.0000e-04\n",
      "Epoch 3/100\n",
      "\u001b[1m33/33\u001b[0m \u001b[32m━━━━━━━━━━━━━━━━━━━━\u001b[0m\u001b[37m\u001b[0m \u001b[1m1s\u001b[0m 27ms/step - accuracy: 0.9422 - loss: 0.5331 - val_accuracy: 0.9429 - val_loss: 0.7520 - learning_rate: 3.0000e-04\n",
      "Epoch 4/100\n",
      "\u001b[1m33/33\u001b[0m \u001b[32m━━━━━━━━━━━━━━━━━━━━\u001b[0m\u001b[37m\u001b[0m \u001b[1m1s\u001b[0m 27ms/step - accuracy: 0.9559 - loss: 0.4834 - val_accuracy: 0.9565 - val_loss: 0.6047 - learning_rate: 3.0000e-04\n",
      "Epoch 5/100\n",
      "\u001b[1m33/33\u001b[0m \u001b[32m━━━━━━━━━━━━━━━━━━━━\u001b[0m\u001b[37m\u001b[0m \u001b[1m1s\u001b[0m 27ms/step - accuracy: 0.9614 - loss: 0.4605 - val_accuracy: 0.9648 - val_loss: 0.5064 - learning_rate: 3.0000e-04\n",
      "Epoch 6/100\n",
      "\u001b[1m33/33\u001b[0m \u001b[32m━━━━━━━━━━━━━━━━━━━━\u001b[0m\u001b[37m\u001b[0m \u001b[1m1s\u001b[0m 26ms/step - accuracy: 0.9728 - loss: 0.4210 - val_accuracy: 0.9669 - val_loss: 0.4582 - learning_rate: 3.0000e-04\n",
      "Epoch 7/100\n",
      "\u001b[1m33/33\u001b[0m \u001b[32m━━━━━━━━━━━━━━━━━━━━\u001b[0m\u001b[37m\u001b[0m \u001b[1m1s\u001b[0m 26ms/step - accuracy: 0.9733 - loss: 0.4109 - val_accuracy: 0.9725 - val_loss: 0.4265 - learning_rate: 3.0000e-04\n",
      "Epoch 8/100\n",
      "\u001b[1m33/33\u001b[0m \u001b[32m━━━━━━━━━━━━━━━━━━━━\u001b[0m\u001b[37m\u001b[0m \u001b[1m1s\u001b[0m 26ms/step - accuracy: 0.9781 - loss: 0.3941 - val_accuracy: 0.9724 - val_loss: 0.4146 - learning_rate: 3.0000e-04\n",
      "Epoch 9/100\n",
      "\u001b[1m33/33\u001b[0m \u001b[32m━━━━━━━━━━━━━━━━━━━━\u001b[0m\u001b[37m\u001b[0m \u001b[1m1s\u001b[0m 29ms/step - accuracy: 0.9806 - loss: 0.3827 - val_accuracy: 0.9743 - val_loss: 0.4061 - learning_rate: 3.0000e-04\n",
      "Epoch 10/100\n",
      "\u001b[1m33/33\u001b[0m \u001b[32m━━━━━━━━━━━━━━━━━━━━\u001b[0m\u001b[37m\u001b[0m \u001b[1m1s\u001b[0m 26ms/step - accuracy: 0.9844 - loss: 0.3708 - val_accuracy: 0.9760 - val_loss: 0.3996 - learning_rate: 3.0000e-04\n",
      "Epoch 11/100\n",
      "\u001b[1m33/33\u001b[0m \u001b[32m━━━━━━━━━━━━━━━━━━━━\u001b[0m\u001b[37m\u001b[0m \u001b[1m1s\u001b[0m 26ms/step - accuracy: 0.9861 - loss: 0.3611 - val_accuracy: 0.9767 - val_loss: 0.3933 - learning_rate: 3.0000e-04\n",
      "Epoch 12/100\n",
      "\u001b[1m33/33\u001b[0m \u001b[32m━━━━━━━━━━━━━━━━━━━━\u001b[0m\u001b[37m\u001b[0m \u001b[1m1s\u001b[0m 26ms/step - accuracy: 0.9871 - loss: 0.3550 - val_accuracy: 0.9771 - val_loss: 0.3927 - learning_rate: 3.0000e-04\n",
      "Epoch 13/100\n",
      "\u001b[1m33/33\u001b[0m \u001b[32m━━━━━━━━━━━━━━━━━━━━\u001b[0m\u001b[37m\u001b[0m \u001b[1m1s\u001b[0m 27ms/step - accuracy: 0.9894 - loss: 0.3439 - val_accuracy: 0.9773 - val_loss: 0.3888 - learning_rate: 3.0000e-04\n",
      "Epoch 14/100\n",
      "\u001b[1m33/33\u001b[0m \u001b[32m━━━━━━━━━━━━━━━━━━━━\u001b[0m\u001b[37m\u001b[0m \u001b[1m1s\u001b[0m 26ms/step - accuracy: 0.9901 - loss: 0.3373 - val_accuracy: 0.9786 - val_loss: 0.3823 - learning_rate: 3.0000e-04\n",
      "Epoch 15/100\n",
      "\u001b[1m33/33\u001b[0m \u001b[32m━━━━━━━━━━━━━━━━━━━━\u001b[0m\u001b[37m\u001b[0m \u001b[1m0s\u001b[0m 13ms/step - accuracy: 0.9915 - loss: 0.3289 - val_accuracy: 0.9776 - val_loss: 0.3847 - learning_rate: 3.0000e-04\n",
      "Epoch 16/100\n",
      "\u001b[1m33/33\u001b[0m \u001b[32m━━━━━━━━━━━━━━━━━━━━\u001b[0m\u001b[37m\u001b[0m \u001b[1m1s\u001b[0m 26ms/step - accuracy: 0.9921 - loss: 0.3261 - val_accuracy: 0.9786 - val_loss: 0.3818 - learning_rate: 3.0000e-04\n",
      "Epoch 17/100\n",
      "\u001b[1m33/33\u001b[0m \u001b[32m━━━━━━━━━━━━━━━━━━━━\u001b[0m\u001b[37m\u001b[0m \u001b[1m1s\u001b[0m 25ms/step - accuracy: 0.9930 - loss: 0.3179 - val_accuracy: 0.9806 - val_loss: 0.3749 - learning_rate: 3.0000e-04\n",
      "Epoch 18/100\n",
      "\u001b[1m33/33\u001b[0m \u001b[32m━━━━━━━━━━━━━━━━━━━━\u001b[0m\u001b[37m\u001b[0m \u001b[1m1s\u001b[0m 26ms/step - accuracy: 0.9932 - loss: 0.3140 - val_accuracy: 0.9795 - val_loss: 0.3736 - learning_rate: 3.0000e-04\n",
      "Epoch 19/100\n",
      "\u001b[1m33/33\u001b[0m \u001b[32m━━━━━━━━━━━━━━━━━━━━\u001b[0m\u001b[37m\u001b[0m \u001b[1m0s\u001b[0m 13ms/step - accuracy: 0.9926 - loss: 0.3106 - val_accuracy: 0.9786 - val_loss: 0.3767 - learning_rate: 3.0000e-04\n",
      "Epoch 20/100\n",
      "\u001b[1m33/33\u001b[0m \u001b[32m━━━━━━━━━━━━━━━━━━━━\u001b[0m\u001b[37m\u001b[0m \u001b[1m1s\u001b[0m 27ms/step - accuracy: 0.9942 - loss: 0.3025 - val_accuracy: 0.9792 - val_loss: 0.3662 - learning_rate: 3.0000e-04\n",
      "Epoch 21/100\n",
      "\u001b[1m33/33\u001b[0m \u001b[32m━━━━━━━━━━━━━━━━━━━━\u001b[0m\u001b[37m\u001b[0m \u001b[1m0s\u001b[0m 13ms/step - accuracy: 0.9936 - loss: 0.3007 - val_accuracy: 0.9785 - val_loss: 0.3726 - learning_rate: 3.0000e-04\n",
      "Epoch 22/100\n",
      "\u001b[1m33/33\u001b[0m \u001b[32m━━━━━━━━━━━━━━━━━━━━\u001b[0m\u001b[37m\u001b[0m \u001b[1m1s\u001b[0m 26ms/step - accuracy: 0.9947 - loss: 0.2944 - val_accuracy: 0.9792 - val_loss: 0.3644 - learning_rate: 3.0000e-04\n",
      "Epoch 23/100\n",
      "\u001b[1m33/33\u001b[0m \u001b[32m━━━━━━━━━━━━━━━━━━━━\u001b[0m\u001b[37m\u001b[0m \u001b[1m1s\u001b[0m 25ms/step - accuracy: 0.9951 - loss: 0.2900 - val_accuracy: 0.9796 - val_loss: 0.3594 - learning_rate: 3.0000e-04\n",
      "Epoch 24/100\n",
      "\u001b[1m33/33\u001b[0m \u001b[32m━━━━━━━━━━━━━━━━━━━━\u001b[0m\u001b[37m\u001b[0m \u001b[1m1s\u001b[0m 26ms/step - accuracy: 0.9958 - loss: 0.2838 - val_accuracy: 0.9798 - val_loss: 0.3571 - learning_rate: 3.0000e-04\n",
      "Epoch 25/100\n",
      "\u001b[1m33/33\u001b[0m \u001b[32m━━━━━━━━━━━━━━━━━━━━\u001b[0m\u001b[37m\u001b[0m \u001b[1m0s\u001b[0m 13ms/step - accuracy: 0.9958 - loss: 0.2798 - val_accuracy: 0.9789 - val_loss: 0.3608 - learning_rate: 3.0000e-04\n",
      "Epoch 26/100\n",
      "\u001b[1m33/33\u001b[0m \u001b[32m━━━━━━━━━━━━━━━━━━━━\u001b[0m\u001b[37m\u001b[0m \u001b[1m1s\u001b[0m 27ms/step - accuracy: 0.9956 - loss: 0.2772 - val_accuracy: 0.9802 - val_loss: 0.3536 - learning_rate: 3.0000e-04\n",
      "Epoch 27/100\n",
      "\u001b[1m33/33\u001b[0m \u001b[32m━━━━━━━━━━━━━━━━━━━━\u001b[0m\u001b[37m\u001b[0m \u001b[1m1s\u001b[0m 27ms/step - accuracy: 0.9952 - loss: 0.2746 - val_accuracy: 0.9807 - val_loss: 0.3453 - learning_rate: 3.0000e-04\n",
      "Epoch 28/100\n",
      "\u001b[1m33/33\u001b[0m \u001b[32m━━━━━━━━━━━━━━━━━━━━\u001b[0m\u001b[37m\u001b[0m \u001b[1m0s\u001b[0m 14ms/step - accuracy: 0.9965 - loss: 0.2680 - val_accuracy: 0.9787 - val_loss: 0.3460 - learning_rate: 3.0000e-04\n",
      "Epoch 29/100\n",
      "\u001b[1m33/33\u001b[0m \u001b[32m━━━━━━━━━━━━━━━━━━━━\u001b[0m\u001b[37m\u001b[0m \u001b[1m1s\u001b[0m 26ms/step - accuracy: 0.9969 - loss: 0.2635 - val_accuracy: 0.9802 - val_loss: 0.3394 - learning_rate: 3.0000e-04\n",
      "Epoch 30/100\n",
      "\u001b[1m33/33\u001b[0m \u001b[32m━━━━━━━━━━━━━━━━━━━━\u001b[0m\u001b[37m\u001b[0m \u001b[1m0s\u001b[0m 13ms/step - accuracy: 0.9969 - loss: 0.2584 - val_accuracy: 0.9789 - val_loss: 0.3420 - learning_rate: 3.0000e-04\n",
      "Epoch 31/100\n",
      "\u001b[1m33/33\u001b[0m \u001b[32m━━━━━━━━━━━━━━━━━━━━\u001b[0m\u001b[37m\u001b[0m \u001b[1m1s\u001b[0m 27ms/step - accuracy: 0.9976 - loss: 0.2527 - val_accuracy: 0.9800 - val_loss: 0.3366 - learning_rate: 3.0000e-04\n",
      "Epoch 32/100\n",
      "\u001b[1m33/33\u001b[0m \u001b[32m━━━━━━━━━━━━━━━━━━━━\u001b[0m\u001b[37m\u001b[0m \u001b[1m0s\u001b[0m 13ms/step - accuracy: 0.9977 - loss: 0.2485 - val_accuracy: 0.9808 - val_loss: 0.3385 - learning_rate: 3.0000e-04\n",
      "Epoch 33/100\n",
      "\u001b[1m33/33\u001b[0m \u001b[32m━━━━━━━━━━━━━━━━━━━━\u001b[0m\u001b[37m\u001b[0m \u001b[1m1s\u001b[0m 26ms/step - accuracy: 0.9975 - loss: 0.2467 - val_accuracy: 0.9790 - val_loss: 0.3315 - learning_rate: 3.0000e-04\n",
      "Epoch 34/100\n",
      "\u001b[1m33/33\u001b[0m \u001b[32m━━━━━━━━━━━━━━━━━━━━\u001b[0m\u001b[37m\u001b[0m \u001b[1m0s\u001b[0m 13ms/step - accuracy: 0.9973 - loss: 0.2423 - val_accuracy: 0.9792 - val_loss: 0.3347 - learning_rate: 3.0000e-04\n",
      "Epoch 35/100\n",
      "\u001b[1m33/33\u001b[0m \u001b[32m━━━━━━━━━━━━━━━━━━━━\u001b[0m\u001b[37m\u001b[0m \u001b[1m1s\u001b[0m 27ms/step - accuracy: 0.9961 - loss: 0.2403 - val_accuracy: 0.9794 - val_loss: 0.3191 - learning_rate: 3.0000e-04\n",
      "Epoch 36/100\n",
      "\u001b[1m33/33\u001b[0m \u001b[32m━━━━━━━━━━━━━━━━━━━━\u001b[0m\u001b[37m\u001b[0m \u001b[1m0s\u001b[0m 13ms/step - accuracy: 0.9974 - loss: 0.2353 - val_accuracy: 0.9787 - val_loss: 0.3210 - learning_rate: 3.0000e-04\n",
      "Epoch 37/100\n",
      "\u001b[1m33/33\u001b[0m \u001b[32m━━━━━━━━━━━━━━━━━━━━\u001b[0m\u001b[37m\u001b[0m \u001b[1m1s\u001b[0m 26ms/step - accuracy: 0.9981 - loss: 0.2304 - val_accuracy: 0.9808 - val_loss: 0.3121 - learning_rate: 3.0000e-04\n",
      "Epoch 38/100\n",
      "\u001b[1m33/33\u001b[0m \u001b[32m━━━━━━━━━━━━━━━━━━━━\u001b[0m\u001b[37m\u001b[0m \u001b[1m0s\u001b[0m 13ms/step - accuracy: 0.9977 - loss: 0.2272 - val_accuracy: 0.9790 - val_loss: 0.3142 - learning_rate: 3.0000e-04\n",
      "Epoch 39/100\n",
      "\u001b[1m33/33\u001b[0m \u001b[32m━━━━━━━━━━━━━━━━━━━━\u001b[0m\u001b[37m\u001b[0m \u001b[1m1s\u001b[0m 26ms/step - accuracy: 0.9970 - loss: 0.2239 - val_accuracy: 0.9790 - val_loss: 0.3082 - learning_rate: 3.0000e-04\n",
      "Epoch 40/100\n",
      "\u001b[1m33/33\u001b[0m \u001b[32m━━━━━━━━━━━━━━━━━━━━\u001b[0m\u001b[37m\u001b[0m \u001b[1m1s\u001b[0m 26ms/step - accuracy: 0.9976 - loss: 0.2206 - val_accuracy: 0.9801 - val_loss: 0.3037 - learning_rate: 3.0000e-04\n",
      "Epoch 41/100\n",
      "\u001b[1m33/33\u001b[0m \u001b[32m━━━━━━━━━━━━━━━━━━━━\u001b[0m\u001b[37m\u001b[0m \u001b[1m1s\u001b[0m 26ms/step - accuracy: 0.9982 - loss: 0.2154 - val_accuracy: 0.9811 - val_loss: 0.3010 - learning_rate: 3.0000e-04\n",
      "Epoch 42/100\n",
      "\u001b[1m33/33\u001b[0m \u001b[32m━━━━━━━━━━━━━━━━━━━━\u001b[0m\u001b[37m\u001b[0m \u001b[1m1s\u001b[0m 26ms/step - accuracy: 0.9975 - loss: 0.2129 - val_accuracy: 0.9808 - val_loss: 0.2966 - learning_rate: 3.0000e-04\n",
      "Epoch 43/100\n",
      "\u001b[1m33/33\u001b[0m \u001b[32m━━━━━━━━━━━━━━━━━━━━\u001b[0m\u001b[37m\u001b[0m \u001b[1m1s\u001b[0m 27ms/step - accuracy: 0.9983 - loss: 0.2072 - val_accuracy: 0.9815 - val_loss: 0.2926 - learning_rate: 3.0000e-04\n",
      "Epoch 44/100\n",
      "\u001b[1m33/33\u001b[0m \u001b[32m━━━━━━━━━━━━━━━━━━━━\u001b[0m\u001b[37m\u001b[0m \u001b[1m0s\u001b[0m 13ms/step - accuracy: 0.9981 - loss: 0.2033 - val_accuracy: 0.9796 - val_loss: 0.2961 - learning_rate: 3.0000e-04\n",
      "Epoch 45/100\n",
      "\u001b[1m33/33\u001b[0m \u001b[32m━━━━━━━━━━━━━━━━━━━━\u001b[0m\u001b[37m\u001b[0m \u001b[1m0s\u001b[0m 13ms/step - accuracy: 0.9981 - loss: 0.2006 - val_accuracy: 0.9776 - val_loss: 0.2973 - learning_rate: 3.0000e-04\n",
      "Epoch 46/100\n",
      "\u001b[1m33/33\u001b[0m \u001b[32m━━━━━━━━━━━━━━━━━━━━\u001b[0m\u001b[37m\u001b[0m \u001b[1m1s\u001b[0m 26ms/step - accuracy: 0.9982 - loss: 0.1968 - val_accuracy: 0.9806 - val_loss: 0.2811 - learning_rate: 3.0000e-04\n",
      "Epoch 47/100\n",
      "\u001b[1m33/33\u001b[0m \u001b[32m━━━━━━━━━━━━━━━━━━━━\u001b[0m\u001b[37m\u001b[0m \u001b[1m1s\u001b[0m 25ms/step - accuracy: 0.9981 - loss: 0.1937 - val_accuracy: 0.9805 - val_loss: 0.2804 - learning_rate: 3.0000e-04\n",
      "Epoch 48/100\n",
      "\u001b[1m33/33\u001b[0m \u001b[32m━━━━━━━━━━━━━━━━━━━━\u001b[0m\u001b[37m\u001b[0m \u001b[1m1s\u001b[0m 26ms/step - accuracy: 0.9986 - loss: 0.1904 - val_accuracy: 0.9802 - val_loss: 0.2767 - learning_rate: 3.0000e-04\n",
      "Epoch 49/100\n",
      "\u001b[1m33/33\u001b[0m \u001b[32m━━━━━━━━━━━━━━━━━━━━\u001b[0m\u001b[37m\u001b[0m \u001b[1m1s\u001b[0m 26ms/step - accuracy: 0.9978 - loss: 0.1874 - val_accuracy: 0.9796 - val_loss: 0.2744 - learning_rate: 3.0000e-04\n",
      "Epoch 50/100\n",
      "\u001b[1m33/33\u001b[0m \u001b[32m━━━━━━━━━━━━━━━━━━━━\u001b[0m\u001b[37m\u001b[0m \u001b[1m1s\u001b[0m 30ms/step - accuracy: 0.9979 - loss: 0.1846 - val_accuracy: 0.9807 - val_loss: 0.2732 - learning_rate: 3.0000e-04\n",
      "Epoch 51/100\n",
      "\u001b[1m33/33\u001b[0m \u001b[32m━━━━━━━━━━━━━━━━━━━━\u001b[0m\u001b[37m\u001b[0m \u001b[1m1s\u001b[0m 26ms/step - accuracy: 0.9974 - loss: 0.1833 - val_accuracy: 0.9807 - val_loss: 0.2720 - learning_rate: 3.0000e-04\n",
      "Epoch 52/100\n",
      "\u001b[1m33/33\u001b[0m \u001b[32m━━━━━━━━━━━━━━━━━━━━\u001b[0m\u001b[37m\u001b[0m \u001b[1m1s\u001b[0m 25ms/step - accuracy: 0.9972 - loss: 0.1788 - val_accuracy: 0.9798 - val_loss: 0.2660 - learning_rate: 3.0000e-04\n",
      "Epoch 53/100\n",
      "\u001b[1m33/33\u001b[0m \u001b[32m━━━━━━━━━━━━━━━━━━━━\u001b[0m\u001b[37m\u001b[0m \u001b[1m1s\u001b[0m 26ms/step - accuracy: 0.9977 - loss: 0.1745 - val_accuracy: 0.9793 - val_loss: 0.2606 - learning_rate: 3.0000e-04\n",
      "Epoch 54/100\n",
      "\u001b[1m33/33\u001b[0m \u001b[32m━━━━━━━━━━━━━━━━━━━━\u001b[0m\u001b[37m\u001b[0m \u001b[1m1s\u001b[0m 26ms/step - accuracy: 0.9974 - loss: 0.1734 - val_accuracy: 0.9800 - val_loss: 0.2598 - learning_rate: 3.0000e-04\n",
      "Epoch 55/100\n",
      "\u001b[1m33/33\u001b[0m \u001b[32m━━━━━━━━━━━━━━━━━━━━\u001b[0m\u001b[37m\u001b[0m \u001b[1m1s\u001b[0m 26ms/step - accuracy: 0.9981 - loss: 0.1688 - val_accuracy: 0.9798 - val_loss: 0.2560 - learning_rate: 3.0000e-04\n",
      "Epoch 56/100\n",
      "\u001b[1m33/33\u001b[0m \u001b[32m━━━━━━━━━━━━━━━━━━━━\u001b[0m\u001b[37m\u001b[0m \u001b[1m1s\u001b[0m 26ms/step - accuracy: 0.9980 - loss: 0.1655 - val_accuracy: 0.9812 - val_loss: 0.2510 - learning_rate: 3.0000e-04\n",
      "Epoch 57/100\n",
      "\u001b[1m33/33\u001b[0m \u001b[32m━━━━━━━━━━━━━━━━━━━━\u001b[0m\u001b[37m\u001b[0m \u001b[1m1s\u001b[0m 27ms/step - accuracy: 0.9989 - loss: 0.1599 - val_accuracy: 0.9801 - val_loss: 0.2476 - learning_rate: 3.0000e-04\n",
      "Epoch 58/100\n",
      "\u001b[1m33/33\u001b[0m \u001b[32m━━━━━━━━━━━━━━━━━━━━\u001b[0m\u001b[37m\u001b[0m \u001b[1m1s\u001b[0m 26ms/step - accuracy: 0.9986 - loss: 0.1570 - val_accuracy: 0.9808 - val_loss: 0.2437 - learning_rate: 3.0000e-04\n",
      "Epoch 59/100\n",
      "\u001b[1m33/33\u001b[0m \u001b[32m━━━━━━━━━━━━━━━━━━━━\u001b[0m\u001b[37m\u001b[0m \u001b[1m1s\u001b[0m 25ms/step - accuracy: 0.9990 - loss: 0.1531 - val_accuracy: 0.9814 - val_loss: 0.2408 - learning_rate: 3.0000e-04\n",
      "Epoch 60/100\n",
      "\u001b[1m33/33\u001b[0m \u001b[32m━━━━━━━━━━━━━━━━━━━━\u001b[0m\u001b[37m\u001b[0m \u001b[1m0s\u001b[0m 13ms/step - accuracy: 0.9988 - loss: 0.1506 - val_accuracy: 0.9800 - val_loss: 0.2455 - learning_rate: 3.0000e-04\n",
      "Epoch 61/100\n",
      "\u001b[1m33/33\u001b[0m \u001b[32m━━━━━━━━━━━━━━━━━━━━\u001b[0m\u001b[37m\u001b[0m \u001b[1m0s\u001b[0m 13ms/step - accuracy: 0.9987 - loss: 0.1486 - val_accuracy: 0.9798 - val_loss: 0.2416 - learning_rate: 3.0000e-04\n",
      "Epoch 62/100\n",
      "\u001b[1m33/33\u001b[0m \u001b[32m━━━━━━━━━━━━━━━━━━━━\u001b[0m\u001b[37m\u001b[0m \u001b[1m1s\u001b[0m 26ms/step - accuracy: 0.9987 - loss: 0.1450 - val_accuracy: 0.9801 - val_loss: 0.2362 - learning_rate: 3.0000e-04\n",
      "Epoch 63/100\n",
      "\u001b[1m33/33\u001b[0m \u001b[32m━━━━━━━━━━━━━━━━━━━━\u001b[0m\u001b[37m\u001b[0m \u001b[1m1s\u001b[0m 26ms/step - accuracy: 0.9989 - loss: 0.1421 - val_accuracy: 0.9808 - val_loss: 0.2296 - learning_rate: 3.0000e-04\n",
      "Epoch 64/100\n",
      "\u001b[1m33/33\u001b[0m \u001b[32m━━━━━━━━━━━━━━━━━━━━\u001b[0m\u001b[37m\u001b[0m \u001b[1m0s\u001b[0m 13ms/step - accuracy: 0.9986 - loss: 0.1389 - val_accuracy: 0.9796 - val_loss: 0.2332 - learning_rate: 3.0000e-04\n",
      "Epoch 65/100\n",
      "\u001b[1m33/33\u001b[0m \u001b[32m━━━━━━━━━━━━━━━━━━━━\u001b[0m\u001b[37m\u001b[0m \u001b[1m1s\u001b[0m 26ms/step - accuracy: 0.9987 - loss: 0.1369 - val_accuracy: 0.9804 - val_loss: 0.2269 - learning_rate: 3.0000e-04\n",
      "Epoch 66/100\n",
      "\u001b[1m33/33\u001b[0m \u001b[32m━━━━━━━━━━━━━━━━━━━━\u001b[0m\u001b[37m\u001b[0m \u001b[1m1s\u001b[0m 26ms/step - accuracy: 0.9987 - loss: 0.1333 - val_accuracy: 0.9805 - val_loss: 0.2217 - learning_rate: 3.0000e-04\n",
      "Epoch 67/100\n",
      "\u001b[1m33/33\u001b[0m \u001b[32m━━━━━━━━━━━━━━━━━━━━\u001b[0m\u001b[37m\u001b[0m \u001b[1m1s\u001b[0m 26ms/step - accuracy: 0.9987 - loss: 0.1313 - val_accuracy: 0.9805 - val_loss: 0.2194 - learning_rate: 3.0000e-04\n",
      "Epoch 68/100\n",
      "\u001b[1m33/33\u001b[0m \u001b[32m━━━━━━━━━━━━━━━━━━━━\u001b[0m\u001b[37m\u001b[0m \u001b[1m1s\u001b[0m 27ms/step - accuracy: 0.9982 - loss: 0.1310 - val_accuracy: 0.9804 - val_loss: 0.2185 - learning_rate: 3.0000e-04\n",
      "Epoch 69/100\n",
      "\u001b[1m33/33\u001b[0m \u001b[32m━━━━━━━━━━━━━━━━━━━━\u001b[0m\u001b[37m\u001b[0m \u001b[1m0s\u001b[0m 13ms/step - accuracy: 0.9981 - loss: 0.1268 - val_accuracy: 0.9794 - val_loss: 0.2188 - learning_rate: 3.0000e-04\n",
      "Epoch 70/100\n",
      "\u001b[1m33/33\u001b[0m \u001b[32m━━━━━━━━━━━━━━━━━━━━\u001b[0m\u001b[37m\u001b[0m \u001b[1m1s\u001b[0m 28ms/step - accuracy: 0.9982 - loss: 0.1263 - val_accuracy: 0.9781 - val_loss: 0.2154 - learning_rate: 3.0000e-04\n",
      "Epoch 71/100\n",
      "\u001b[1m33/33\u001b[0m \u001b[32m━━━━━━━━━━━━━━━━━━━━\u001b[0m\u001b[37m\u001b[0m \u001b[1m1s\u001b[0m 26ms/step - accuracy: 0.9977 - loss: 0.1236 - val_accuracy: 0.9801 - val_loss: 0.2116 - learning_rate: 3.0000e-04\n",
      "Epoch 72/100\n",
      "\u001b[1m33/33\u001b[0m \u001b[32m━━━━━━━━━━━━━━━━━━━━\u001b[0m\u001b[37m\u001b[0m \u001b[1m0s\u001b[0m 13ms/step - accuracy: 0.9979 - loss: 0.1207 - val_accuracy: 0.9802 - val_loss: 0.2120 - learning_rate: 3.0000e-04\n",
      "Epoch 73/100\n",
      "\u001b[1m33/33\u001b[0m \u001b[32m━━━━━━━━━━━━━━━━━━━━\u001b[0m\u001b[37m\u001b[0m \u001b[1m1s\u001b[0m 26ms/step - accuracy: 0.9982 - loss: 0.1178 - val_accuracy: 0.9815 - val_loss: 0.2052 - learning_rate: 3.0000e-04\n",
      "Epoch 74/100\n",
      "\u001b[1m33/33\u001b[0m \u001b[32m━━━━━━━━━━━━━━━━━━━━\u001b[0m\u001b[37m\u001b[0m \u001b[1m1s\u001b[0m 26ms/step - accuracy: 0.9979 - loss: 0.1158 - val_accuracy: 0.9812 - val_loss: 0.2016 - learning_rate: 3.0000e-04\n",
      "Epoch 75/100\n",
      "\u001b[1m33/33\u001b[0m \u001b[32m━━━━━━━━━━━━━━━━━━━━\u001b[0m\u001b[37m\u001b[0m \u001b[1m0s\u001b[0m 13ms/step - accuracy: 0.9981 - loss: 0.1137 - val_accuracy: 0.9810 - val_loss: 0.2033 - learning_rate: 3.0000e-04\n",
      "Epoch 76/100\n",
      "\u001b[1m33/33\u001b[0m \u001b[32m━━━━━━━━━━━━━━━━━━━━\u001b[0m\u001b[37m\u001b[0m \u001b[1m1s\u001b[0m 31ms/step - accuracy: 0.9979 - loss: 0.1121 - val_accuracy: 0.9805 - val_loss: 0.1987 - learning_rate: 3.0000e-04\n",
      "Epoch 77/100\n",
      "\u001b[1m33/33\u001b[0m \u001b[32m━━━━━━━━━━━━━━━━━━━━\u001b[0m\u001b[37m\u001b[0m \u001b[1m1s\u001b[0m 26ms/step - accuracy: 0.9986 - loss: 0.1076 - val_accuracy: 0.9817 - val_loss: 0.1972 - learning_rate: 3.0000e-04\n",
      "Epoch 78/100\n",
      "\u001b[1m33/33\u001b[0m \u001b[32m━━━━━━━━━━━━━━━━━━━━\u001b[0m\u001b[37m\u001b[0m \u001b[1m0s\u001b[0m 13ms/step - accuracy: 0.9984 - loss: 0.1056 - val_accuracy: 0.9807 - val_loss: 0.2010 - learning_rate: 3.0000e-04\n",
      "Epoch 79/100\n",
      "\u001b[1m33/33\u001b[0m \u001b[32m━━━━━━━━━━━━━━━━━━━━\u001b[0m\u001b[37m\u001b[0m \u001b[1m0s\u001b[0m 13ms/step - accuracy: 0.9984 - loss: 0.1040 - val_accuracy: 0.9795 - val_loss: 0.1996 - learning_rate: 3.0000e-04\n",
      "Epoch 80/100\n",
      "\u001b[1m33/33\u001b[0m \u001b[32m━━━━━━━━━━━━━━━━━━━━\u001b[0m\u001b[37m\u001b[0m \u001b[1m1s\u001b[0m 27ms/step - accuracy: 0.9984 - loss: 0.1020 - val_accuracy: 0.9801 - val_loss: 0.1933 - learning_rate: 3.0000e-04\n",
      "Epoch 81/100\n",
      "\u001b[1m33/33\u001b[0m \u001b[32m━━━━━━━━━━━━━━━━━━━━\u001b[0m\u001b[37m\u001b[0m \u001b[1m1s\u001b[0m 26ms/step - accuracy: 0.9983 - loss: 0.1003 - val_accuracy: 0.9825 - val_loss: 0.1848 - learning_rate: 3.0000e-04\n",
      "Epoch 82/100\n",
      "\u001b[1m33/33\u001b[0m \u001b[32m━━━━━━━━━━━━━━━━━━━━\u001b[0m\u001b[37m\u001b[0m \u001b[1m1s\u001b[0m 26ms/step - accuracy: 0.9985 - loss: 0.0983 - val_accuracy: 0.9824 - val_loss: 0.1787 - learning_rate: 3.0000e-04\n",
      "Epoch 83/100\n",
      "\u001b[1m33/33\u001b[0m \u001b[32m━━━━━━━━━━━━━━━━━━━━\u001b[0m\u001b[37m\u001b[0m \u001b[1m0s\u001b[0m 13ms/step - accuracy: 0.9987 - loss: 0.0953 - val_accuracy: 0.9812 - val_loss: 0.1824 - learning_rate: 3.0000e-04\n",
      "Epoch 84/100\n",
      "\u001b[1m33/33\u001b[0m \u001b[32m━━━━━━━━━━━━━━━━━━━━\u001b[0m\u001b[37m\u001b[0m \u001b[1m0s\u001b[0m 13ms/step - accuracy: 0.9989 - loss: 0.0927 - val_accuracy: 0.9807 - val_loss: 0.1874 - learning_rate: 3.0000e-04\n",
      "Epoch 85/100\n",
      "\u001b[1m33/33\u001b[0m \u001b[32m━━━━━━━━━━━━━━━━━━━━\u001b[0m\u001b[37m\u001b[0m \u001b[1m0s\u001b[0m 13ms/step - accuracy: 0.9990 - loss: 0.0909 - val_accuracy: 0.9799 - val_loss: 0.1828 - learning_rate: 3.0000e-04\n",
      "Epoch 86/100\n",
      "\u001b[1m33/33\u001b[0m \u001b[32m━━━━━━━━━━━━━━━━━━━━\u001b[0m\u001b[37m\u001b[0m \u001b[1m1s\u001b[0m 26ms/step - accuracy: 0.9985 - loss: 0.0904 - val_accuracy: 0.9811 - val_loss: 0.1760 - learning_rate: 1.5000e-04\n",
      "Epoch 87/100\n",
      "\u001b[1m33/33\u001b[0m \u001b[32m━━━━━━━━━━━━━━━━━━━━\u001b[0m\u001b[37m\u001b[0m \u001b[1m1s\u001b[0m 25ms/step - accuracy: 0.9993 - loss: 0.0873 - val_accuracy: 0.9812 - val_loss: 0.1740 - learning_rate: 1.5000e-04\n",
      "Epoch 88/100\n",
      "\u001b[1m33/33\u001b[0m \u001b[32m━━━━━━━━━━━━━━━━━━━━\u001b[0m\u001b[37m\u001b[0m \u001b[1m0s\u001b[0m 13ms/step - accuracy: 0.9992 - loss: 0.0863 - val_accuracy: 0.9810 - val_loss: 0.1749 - learning_rate: 1.5000e-04\n",
      "Epoch 89/100\n",
      "\u001b[1m33/33\u001b[0m \u001b[32m━━━━━━━━━━━━━━━━━━━━\u001b[0m\u001b[37m\u001b[0m \u001b[1m0s\u001b[0m 13ms/step - accuracy: 0.9995 - loss: 0.0846 - val_accuracy: 0.9817 - val_loss: 0.1762 - learning_rate: 1.5000e-04\n",
      "Epoch 90/100\n",
      "\u001b[1m33/33\u001b[0m \u001b[32m━━━━━━━━━━━━━━━━━━━━\u001b[0m\u001b[37m\u001b[0m \u001b[1m0s\u001b[0m 13ms/step - accuracy: 0.9997 - loss: 0.0831 - val_accuracy: 0.9812 - val_loss: 0.1756 - learning_rate: 1.5000e-04\n",
      "Epoch 91/100\n",
      "\u001b[1m33/33\u001b[0m \u001b[32m━━━━━━━━━━━━━━━━━━━━\u001b[0m\u001b[37m\u001b[0m \u001b[1m1s\u001b[0m 31ms/step - accuracy: 0.9996 - loss: 0.0822 - val_accuracy: 0.9823 - val_loss: 0.1720 - learning_rate: 7.5000e-05\n",
      "Epoch 92/100\n",
      "\u001b[1m33/33\u001b[0m \u001b[32m━━━━━━━━━━━━━━━━━━━━\u001b[0m\u001b[37m\u001b[0m \u001b[1m1s\u001b[0m 25ms/step - accuracy: 0.9997 - loss: 0.0814 - val_accuracy: 0.9824 - val_loss: 0.1710 - learning_rate: 7.5000e-05\n",
      "Epoch 93/100\n",
      "\u001b[1m33/33\u001b[0m \u001b[32m━━━━━━━━━━━━━━━━━━━━\u001b[0m\u001b[37m\u001b[0m \u001b[1m1s\u001b[0m 25ms/step - accuracy: 0.9999 - loss: 0.0805 - val_accuracy: 0.9831 - val_loss: 0.1682 - learning_rate: 7.5000e-05\n",
      "Epoch 94/100\n",
      "\u001b[1m33/33\u001b[0m \u001b[32m━━━━━━━━━━━━━━━━━━━━\u001b[0m\u001b[37m\u001b[0m \u001b[1m0s\u001b[0m 13ms/step - accuracy: 0.9999 - loss: 0.0798 - val_accuracy: 0.9826 - val_loss: 0.1685 - learning_rate: 7.5000e-05\n",
      "Epoch 95/100\n",
      "\u001b[1m33/33\u001b[0m \u001b[32m━━━━━━━━━━━━━━━━━━━━\u001b[0m\u001b[37m\u001b[0m \u001b[1m1s\u001b[0m 25ms/step - accuracy: 0.9995 - loss: 0.0798 - val_accuracy: 0.9830 - val_loss: 0.1681 - learning_rate: 7.5000e-05\n",
      "Epoch 96/100\n",
      "\u001b[1m33/33\u001b[0m \u001b[32m━━━━━━━━━━━━━━━━━━━━\u001b[0m\u001b[37m\u001b[0m \u001b[1m0s\u001b[0m 12ms/step - accuracy: 0.9995 - loss: 0.0797 - val_accuracy: 0.9823 - val_loss: 0.1692 - learning_rate: 7.5000e-05\n",
      "Epoch 97/100\n",
      "\u001b[1m33/33\u001b[0m \u001b[32m━━━━━━━━━━━━━━━━━━━━\u001b[0m\u001b[37m\u001b[0m \u001b[1m1s\u001b[0m 25ms/step - accuracy: 0.9999 - loss: 0.0783 - val_accuracy: 0.9824 - val_loss: 0.1676 - learning_rate: 3.7500e-05\n",
      "Epoch 98/100\n",
      "\u001b[1m33/33\u001b[0m \u001b[32m━━━━━━━━━━━━━━━━━━━━\u001b[0m\u001b[37m\u001b[0m \u001b[1m1s\u001b[0m 30ms/step - accuracy: 0.9998 - loss: 0.0780 - val_accuracy: 0.9824 - val_loss: 0.1660 - learning_rate: 3.7500e-05\n",
      "Epoch 99/100\n",
      "\u001b[1m33/33\u001b[0m \u001b[32m━━━━━━━━━━━━━━━━━━━━\u001b[0m\u001b[37m\u001b[0m \u001b[1m1s\u001b[0m 30ms/step - accuracy: 0.9997 - loss: 0.0777 - val_accuracy: 0.9826 - val_loss: 0.1654 - learning_rate: 3.7500e-05\n",
      "Epoch 100/100\n",
      "\u001b[1m33/33\u001b[0m \u001b[32m━━━━━━━━━━━━━━━━━━━━\u001b[0m\u001b[37m\u001b[0m \u001b[1m1s\u001b[0m 26ms/step - accuracy: 0.9998 - loss: 0.0774 - val_accuracy: 0.9821 - val_loss: 0.1652 - learning_rate: 3.7500e-05\n"
     ]
    }
   ],
   "source": [
    "history = model.fit(\n",
    "    X_train, y_train,        # training data (features and labels)\n",
    "    validation_split=0.2,    # use 20% of training data for validation\n",
    "    epochs=100,              # train in 100 epochs \n",
    "    batch_size=1024,         # number of samples processed before updating model weights\n",
    "    callbacks=callbacks,     # apply early stopping, learning rate reduction, and model checkpoint\n",
    "    verbose=1                \n",
    ")\n"
   ]
  },
  {
   "cell_type": "code",
   "execution_count": null,
   "metadata": {
    "colab": {
     "background_save": true
    },
    "execution": {
     "iopub.execute_input": "2025-03-20T03:26:35.450770Z",
     "iopub.status.busy": "2025-03-20T03:26:35.450539Z",
     "iopub.status.idle": "2025-03-20T03:26:35.927673Z",
     "shell.execute_reply": "2025-03-20T03:26:35.926837Z",
     "shell.execute_reply.started": "2025-03-20T03:26:35.450751Z"
    },
    "id": "WCjfv4GRqfYu",
    "outputId": "209f7505-cdff-43a7-b2db-e4c235c484ec",
    "trusted": true
   },
   "outputs": [
    {
     "data": {
      "image/png": "[encoded data removed]",
      "text/plain": [
       "<Figure size 1200x500 with 2 Axes>"
      ]
     },
     "metadata": {},
     "output_type": "display_data"
    }
   ],
   "source": [
    "# plot training history for visualization\n",
    "plt.figure(figsize=(12, 5))\n",
    "\n",
    "# Loss plot\n",
    "plt.subplot(1, 2, 1)\n",
    "plt.plot(history.history['loss'], label='Train Loss')\n",
    "plt.plot(history.history['val_loss'], label='Validation Loss')\n",
    "plt.title('Training and Validation Loss')\n",
    "plt.xlabel('Epochs')\n",
    "plt.ylabel('Loss')\n",
    "plt.legend()\n",
    "\n",
    "# Accuracy plot\n",
    "plt.subplot(1, 2, 2)\n",
    "plt.plot(history.history['accuracy'], label='Train Accuracy')\n",
    "plt.plot(history.history['val_accuracy'], label='Validation Accuracy')\n",
    "plt.title('Training and Validation Accuracy')\n",
    "plt.xlabel('Epochs')\n",
    "plt.ylabel('Accuracy')\n",
    "plt.legend()\n",
    "\n",
    "plt.tight_layout()\n",
    "plt.show()"
   ]
  },
  {
   "cell_type": "markdown",
   "metadata": {
    "id": "mf2QFz40pUUa"
   },
   "source": [
    "## Export CSV file"
   ]
  },
  {
   "cell_type": "code",
   "execution_count": null,
   "metadata": {
    "execution": {
     "iopub.execute_input": "2025-03-20T03:26:35.928978Z",
     "iopub.status.busy": "2025-03-20T03:26:35.928701Z",
     "iopub.status.idle": "2025-03-20T03:26:38.523393Z",
     "shell.execute_reply": "2025-03-20T03:26:38.522451Z",
     "shell.execute_reply.started": "2025-03-20T03:26:35.928944Z"
    },
    "id": "VAXBGOHIpa1y",
    "trusted": true
   },
   "outputs": [
    {
     "name": "stderr",
     "output_type": "stream",
     "text": [
      "/usr/local/lib/python3.10/dist-packages/keras/src/layers/layer.py:391: UserWarning: `build()` was called on layer 'residual_block', however the layer does not have a `build()` method implemented and it looks like it has unbuilt state. This will cause the layer to be marked as built, despite not being actually built, which may cause failures down the line. Make sure to implement a proper `build()` method.\n",
      "  warnings.warn(\n",
      "/usr/local/lib/python3.10/dist-packages/keras/src/layers/layer.py:391: UserWarning: `build()` was called on layer 'residual_block_1', however the layer does not have a `build()` method implemented and it looks like it has unbuilt state. This will cause the layer to be marked as built, despite not being actually built, which may cause failures down the line. Make sure to implement a proper `build()` method.\n",
      "  warnings.warn(\n",
      "/usr/local/lib/python3.10/dist-packages/keras/src/layers/layer.py:391: UserWarning: `build()` was called on layer 'residual_block_2', however the layer does not have a `build()` method implemented and it looks like it has unbuilt state. This will cause the layer to be marked as built, despite not being actually built, which may cause failures down the line. Make sure to implement a proper `build()` method.\n",
      "  warnings.warn(\n"
     ]
    },
    {
     "name": "stdout",
     "output_type": "stream",
     "text": [
      "\u001b[1m875/875\u001b[0m \u001b[32m━━━━━━━━━━━━━━━━━━━━\u001b[0m\u001b[37m\u001b[0m \u001b[1m1s\u001b[0m 1ms/step\n",
      "Submission file created!\n",
      "Top 5 predictions:\n"
     ]
    },
    {
     "data": {
      "text/html": [
       "<div>\n",
       "<style scoped>\n",
       "    .dataframe tbody tr th:only-of-type {\n",
       "        vertical-align: middle;\n",
       "    }\n",
       "\n",
       "    .dataframe tbody tr th {\n",
       "        vertical-align: top;\n",
       "    }\n",
       "\n",
       "    .dataframe thead th {\n",
       "        text-align: right;\n",
       "    }\n",
       "</style>\n",
       "<table border=\"1\" class=\"dataframe\">\n",
       "  <thead>\n",
       "    <tr style=\"text-align: right;\">\n",
       "      <th></th>\n",
       "      <th>ImageId</th>\n",
       "      <th>Label</th>\n",
       "    </tr>\n",
       "  </thead>\n",
       "  <tbody>\n",
       "    <tr>\n",
       "      <th>0</th>\n",
       "      <td>1</td>\n",
       "      <td>2</td>\n",
       "    </tr>\n",
       "    <tr>\n",
       "      <th>1</th>\n",
       "      <td>2</td>\n",
       "      <td>0</td>\n",
       "    </tr>\n",
       "    <tr>\n",
       "      <th>2</th>\n",
       "      <td>3</td>\n",
       "      <td>9</td>\n",
       "    </tr>\n",
       "    <tr>\n",
       "      <th>3</th>\n",
       "      <td>4</td>\n",
       "      <td>9</td>\n",
       "    </tr>\n",
       "    <tr>\n",
       "      <th>4</th>\n",
       "      <td>5</td>\n",
       "      <td>3</td>\n",
       "    </tr>\n",
       "  </tbody>\n",
       "</table>\n",
       "</div>"
      ],
      "text/plain": [
       "   ImageId  Label\n",
       "0        1      2\n",
       "1        2      0\n",
       "2        3      9\n",
       "3        4      9\n",
       "4        5      3"
      ]
     },
     "metadata": {},
     "output_type": "display_data"
    }
   ],
   "source": [
    "model = tf.keras.models.load_model('best_model.keras',\n",
    "                                 custom_objects={'ResidualBlock': ResidualBlock})\n",
    "\n",
    "# generate predictions\n",
    "test_probs = model.predict(X_test)\n",
    "test_preds = np.argmax(test_probs, axis=1)\n",
    "\n",
    "# create csv submission file\n",
    "submission = pd.DataFrame({\n",
    "    'ImageId': range(1, len(test_preds)+1),\n",
    "    'Label': test_preds\n",
    "})\n",
    "submission.to_csv('submission.csv', index=False)\n",
    "\n",
    "# print top 5 predictions\n",
    "print(\"Submission file created!\")\n",
    "print(\"Top 5 predictions:\")\n",
    "display(submission.head())"
   ]
  },
  {
   "cell_type": "code",
   "execution_count": null,
   "metadata": {
    "execution": {
     "iopub.execute_input": "2025-03-20T03:26:38.524815Z",
     "iopub.status.busy": "2025-03-20T03:26:38.524414Z",
     "iopub.status.idle": "2025-03-20T03:26:38.529083Z",
     "shell.execute_reply": "2025-03-20T03:26:38.528423Z",
     "shell.execute_reply.started": "2025-03-20T03:26:38.524782Z"
    },
    "id": "tIHDhFCCzeC9",
    "trusted": true
   },
   "outputs": [
    {
     "name": "stdout",
     "output_type": "stream",
     "text": [
      "28000\n"
     ]
    }
   ],
   "source": [
    "# check\n",
    "print(len(submission))"
   ]
  },
  {
   "cell_type": "markdown",
   "metadata": {
    "id": "sDt_BvyEpWPa"
   },
   "source": [
    "## Kaggle Submission\n",
    "#### Link submission: https://drive.google.com/file/d/1tI26VoEg6lOfgZVfCkV0T3H3YPgAXufZ/view?usp=sharing "
   ]
  }
 ],
 "metadata": {
  "colab": {
   "authorship_tag": "ABX9TyMkWAu6cuN7LeXmohJTaBmT",
   "provenance": []
  },
  "kaggle": {
   "accelerator": "gpu",
   "dataSources": [
    {
     "datasetId": 6916680,
     "sourceId": 11095592,
     "sourceType": "datasetVersion"
    }
   ],
   "dockerImageVersionId": 30919,
   "isGpuEnabled": true,
   "isInternetEnabled": true,
   "language": "python",
   "sourceType": "notebook"
  },
  "kernelspec": {
   "display_name": "Python 3",
   "language": "python",
   "name": "python3"
  },
  "language_info": {
   "codemirror_mode": {
    "name": "ipython",
    "version": 3
   },
   "file_extension": ".py",
   "mimetype": "text/x-python",
   "name": "python",
   "nbconvert_exporter": "python",
   "pygments_lexer": "ipython3",
   "version": "3.10.12"
  }
 },
 "nbformat": 4,
 "nbformat_minor": 4
}
