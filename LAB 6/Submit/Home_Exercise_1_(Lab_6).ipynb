{
  "nbformat": 4,
  "nbformat_minor": 0,
  "metadata": {
    "colab": {
      "provenance": []
    },
    "kernelspec": {
      "name": "python3",
      "display_name": "Python 3"
    },
    "language_info": {
      "name": "python"
    }
  },
  "cells": [
    {
      "cell_type": "markdown",
      "source": [
        "### Import Libraries"
      ],
      "metadata": {
        "id": "--oBN1NTiOFX"
      }
    },
    {
      "cell_type": "code",
      "execution_count": 177,
      "metadata": {
        "id": "Mgd7tGDugaYx"
      },
      "outputs": [],
      "source": [
        "import numpy as np\n",
        "import pandas as pd\n",
        "import zipfile"
      ]
    },
    {
      "cell_type": "markdown",
      "source": [
        "### Data Downloading"
      ],
      "metadata": {
        "id": "skgnF0w8iRF0"
      }
    },
    {
      "cell_type": "code",
      "source": [
        "zip_path = \"/content/home-data-for-ml-course.zip\"\n",
        "extract_to = \"data/\"\n",
        "# open the zip file\n",
        "with zipfile.ZipFile(zip_path, 'r') as zip_ref:\n",
        "    # extract specific files\n",
        "    zip_ref.extract(\"train.csv\", extract_to)\n",
        "    zip_ref.extract(\"test.csv\", extract_to)"
      ],
      "metadata": {
        "id": "FfxBm6LCHmyQ"
      },
      "execution_count": 178,
      "outputs": []
    },
    {
      "cell_type": "code",
      "source": [
        "# train data and test data\n",
        "train_data = pd.read_csv(\"data/train.csv\")\n",
        "test_data = pd.read_csv(\"data/test.csv\")"
      ],
      "metadata": {
        "id": "FhhTdABwVbgl"
      },
      "execution_count": 179,
      "outputs": []
    },
    {
      "cell_type": "markdown",
      "source": [
        "### Data Exploring"
      ],
      "metadata": {
        "id": "9YF7xXl7d3ro"
      }
    },
    {
      "cell_type": "code",
      "source": [
        "print(train_data.columns)"
      ],
      "metadata": {
        "colab": {
          "base_uri": "https://localhost:8080/"
        },
        "id": "ZpevTBLaiHrU",
        "outputId": "273ac0b9-73d6-4860-e10e-f875e3e7bfd7"
      },
      "execution_count": 180,
      "outputs": [
        {
          "output_type": "stream",
          "name": "stdout",
          "text": [
            "Index(['Id', 'MSSubClass', 'MSZoning', 'LotFrontage', 'LotArea', 'Street',\n",
            "       'Alley', 'LotShape', 'LandContour', 'Utilities', 'LotConfig',\n",
            "       'LandSlope', 'Neighborhood', 'Condition1', 'Condition2', 'BldgType',\n",
            "       'HouseStyle', 'OverallQual', 'OverallCond', 'YearBuilt', 'YearRemodAdd',\n",
            "       'RoofStyle', 'RoofMatl', 'Exterior1st', 'Exterior2nd', 'MasVnrType',\n",
            "       'MasVnrArea', 'ExterQual', 'ExterCond', 'Foundation', 'BsmtQual',\n",
            "       'BsmtCond', 'BsmtExposure', 'BsmtFinType1', 'BsmtFinSF1',\n",
            "       'BsmtFinType2', 'BsmtFinSF2', 'BsmtUnfSF', 'TotalBsmtSF', 'Heating',\n",
            "       'HeatingQC', 'CentralAir', 'Electrical', '1stFlrSF', '2ndFlrSF',\n",
            "       'LowQualFinSF', 'GrLivArea', 'BsmtFullBath', 'BsmtHalfBath', 'FullBath',\n",
            "       'HalfBath', 'BedroomAbvGr', 'KitchenAbvGr', 'KitchenQual',\n",
            "       'TotRmsAbvGrd', 'Functional', 'Fireplaces', 'FireplaceQu', 'GarageType',\n",
            "       'GarageYrBlt', 'GarageFinish', 'GarageCars', 'GarageArea', 'GarageQual',\n",
            "       'GarageCond', 'PavedDrive', 'WoodDeckSF', 'OpenPorchSF',\n",
            "       'EnclosedPorch', '3SsnPorch', 'ScreenPorch', 'PoolArea', 'PoolQC',\n",
            "       'Fence', 'MiscFeature', 'MiscVal', 'MoSold', 'YrSold', 'SaleType',\n",
            "       'SaleCondition', 'SalePrice'],\n",
            "      dtype='object')\n"
          ]
        }
      ]
    },
    {
      "cell_type": "code",
      "source": [
        "print(train_data.info())\n",
        "print(train_data.describe())"
      ],
      "metadata": {
        "colab": {
          "base_uri": "https://localhost:8080/"
        },
        "id": "T9kWEkXBuprf",
        "outputId": "9908403e-b4ab-4bf3-ab75-0f20611b39bb"
      },
      "execution_count": 181,
      "outputs": [
        {
          "output_type": "stream",
          "name": "stdout",
          "text": [
            "<class 'pandas.core.frame.DataFrame'>\n",
            "RangeIndex: 1460 entries, 0 to 1459\n",
            "Data columns (total 81 columns):\n",
            " #   Column         Non-Null Count  Dtype  \n",
            "---  ------         --------------  -----  \n",
            " 0   Id             1460 non-null   int64  \n",
            " 1   MSSubClass     1460 non-null   int64  \n",
            " 2   MSZoning       1460 non-null   object \n",
            " 3   LotFrontage    1201 non-null   float64\n",
            " 4   LotArea        1460 non-null   int64  \n",
            " 5   Street         1460 non-null   object \n",
            " 6   Alley          91 non-null     object \n",
            " 7   LotShape       1460 non-null   object \n",
            " 8   LandContour    1460 non-null   object \n",
            " 9   Utilities      1460 non-null   object \n",
            " 10  LotConfig      1460 non-null   object \n",
            " 11  LandSlope      1460 non-null   object \n",
            " 12  Neighborhood   1460 non-null   object \n",
            " 13  Condition1     1460 non-null   object \n",
            " 14  Condition2     1460 non-null   object \n",
            " 15  BldgType       1460 non-null   object \n",
            " 16  HouseStyle     1460 non-null   object \n",
            " 17  OverallQual    1460 non-null   int64  \n",
            " 18  OverallCond    1460 non-null   int64  \n",
            " 19  YearBuilt      1460 non-null   int64  \n",
            " 20  YearRemodAdd   1460 non-null   int64  \n",
            " 21  RoofStyle      1460 non-null   object \n",
            " 22  RoofMatl       1460 non-null   object \n",
            " 23  Exterior1st    1460 non-null   object \n",
            " 24  Exterior2nd    1460 non-null   object \n",
            " 25  MasVnrType     588 non-null    object \n",
            " 26  MasVnrArea     1452 non-null   float64\n",
            " 27  ExterQual      1460 non-null   object \n",
            " 28  ExterCond      1460 non-null   object \n",
            " 29  Foundation     1460 non-null   object \n",
            " 30  BsmtQual       1423 non-null   object \n",
            " 31  BsmtCond       1423 non-null   object \n",
            " 32  BsmtExposure   1422 non-null   object \n",
            " 33  BsmtFinType1   1423 non-null   object \n",
            " 34  BsmtFinSF1     1460 non-null   int64  \n",
            " 35  BsmtFinType2   1422 non-null   object \n",
            " 36  BsmtFinSF2     1460 non-null   int64  \n",
            " 37  BsmtUnfSF      1460 non-null   int64  \n",
            " 38  TotalBsmtSF    1460 non-null   int64  \n",
            " 39  Heating        1460 non-null   object \n",
            " 40  HeatingQC      1460 non-null   object \n",
            " 41  CentralAir     1460 non-null   object \n",
            " 42  Electrical     1459 non-null   object \n",
            " 43  1stFlrSF       1460 non-null   int64  \n",
            " 44  2ndFlrSF       1460 non-null   int64  \n",
            " 45  LowQualFinSF   1460 non-null   int64  \n",
            " 46  GrLivArea      1460 non-null   int64  \n",
            " 47  BsmtFullBath   1460 non-null   int64  \n",
            " 48  BsmtHalfBath   1460 non-null   int64  \n",
            " 49  FullBath       1460 non-null   int64  \n",
            " 50  HalfBath       1460 non-null   int64  \n",
            " 51  BedroomAbvGr   1460 non-null   int64  \n",
            " 52  KitchenAbvGr   1460 non-null   int64  \n",
            " 53  KitchenQual    1460 non-null   object \n",
            " 54  TotRmsAbvGrd   1460 non-null   int64  \n",
            " 55  Functional     1460 non-null   object \n",
            " 56  Fireplaces     1460 non-null   int64  \n",
            " 57  FireplaceQu    770 non-null    object \n",
            " 58  GarageType     1379 non-null   object \n",
            " 59  GarageYrBlt    1379 non-null   float64\n",
            " 60  GarageFinish   1379 non-null   object \n",
            " 61  GarageCars     1460 non-null   int64  \n",
            " 62  GarageArea     1460 non-null   int64  \n",
            " 63  GarageQual     1379 non-null   object \n",
            " 64  GarageCond     1379 non-null   object \n",
            " 65  PavedDrive     1460 non-null   object \n",
            " 66  WoodDeckSF     1460 non-null   int64  \n",
            " 67  OpenPorchSF    1460 non-null   int64  \n",
            " 68  EnclosedPorch  1460 non-null   int64  \n",
            " 69  3SsnPorch      1460 non-null   int64  \n",
            " 70  ScreenPorch    1460 non-null   int64  \n",
            " 71  PoolArea       1460 non-null   int64  \n",
            " 72  PoolQC         7 non-null      object \n",
            " 73  Fence          281 non-null    object \n",
            " 74  MiscFeature    54 non-null     object \n",
            " 75  MiscVal        1460 non-null   int64  \n",
            " 76  MoSold         1460 non-null   int64  \n",
            " 77  YrSold         1460 non-null   int64  \n",
            " 78  SaleType       1460 non-null   object \n",
            " 79  SaleCondition  1460 non-null   object \n",
            " 80  SalePrice      1460 non-null   int64  \n",
            "dtypes: float64(3), int64(35), object(43)\n",
            "memory usage: 924.0+ KB\n",
            "None\n",
            "                Id   MSSubClass  LotFrontage        LotArea  OverallQual  \\\n",
            "count  1460.000000  1460.000000  1201.000000    1460.000000  1460.000000   \n",
            "mean    730.500000    56.897260    70.049958   10516.828082     6.099315   \n",
            "std     421.610009    42.300571    24.284752    9981.264932     1.382997   \n",
            "min       1.000000    20.000000    21.000000    1300.000000     1.000000   \n",
            "25%     365.750000    20.000000    59.000000    7553.500000     5.000000   \n",
            "50%     730.500000    50.000000    69.000000    9478.500000     6.000000   \n",
            "75%    1095.250000    70.000000    80.000000   11601.500000     7.000000   \n",
            "max    1460.000000   190.000000   313.000000  215245.000000    10.000000   \n",
            "\n",
            "       OverallCond    YearBuilt  YearRemodAdd   MasVnrArea   BsmtFinSF1  ...  \\\n",
            "count  1460.000000  1460.000000   1460.000000  1452.000000  1460.000000  ...   \n",
            "mean      5.575342  1971.267808   1984.865753   103.685262   443.639726  ...   \n",
            "std       1.112799    30.202904     20.645407   181.066207   456.098091  ...   \n",
            "min       1.000000  1872.000000   1950.000000     0.000000     0.000000  ...   \n",
            "25%       5.000000  1954.000000   1967.000000     0.000000     0.000000  ...   \n",
            "50%       5.000000  1973.000000   1994.000000     0.000000   383.500000  ...   \n",
            "75%       6.000000  2000.000000   2004.000000   166.000000   712.250000  ...   \n",
            "max       9.000000  2010.000000   2010.000000  1600.000000  5644.000000  ...   \n",
            "\n",
            "        WoodDeckSF  OpenPorchSF  EnclosedPorch    3SsnPorch  ScreenPorch  \\\n",
            "count  1460.000000  1460.000000    1460.000000  1460.000000  1460.000000   \n",
            "mean     94.244521    46.660274      21.954110     3.409589    15.060959   \n",
            "std     125.338794    66.256028      61.119149    29.317331    55.757415   \n",
            "min       0.000000     0.000000       0.000000     0.000000     0.000000   \n",
            "25%       0.000000     0.000000       0.000000     0.000000     0.000000   \n",
            "50%       0.000000    25.000000       0.000000     0.000000     0.000000   \n",
            "75%     168.000000    68.000000       0.000000     0.000000     0.000000   \n",
            "max     857.000000   547.000000     552.000000   508.000000   480.000000   \n",
            "\n",
            "          PoolArea       MiscVal       MoSold       YrSold      SalePrice  \n",
            "count  1460.000000   1460.000000  1460.000000  1460.000000    1460.000000  \n",
            "mean      2.758904     43.489041     6.321918  2007.815753  180921.195890  \n",
            "std      40.177307    496.123024     2.703626     1.328095   79442.502883  \n",
            "min       0.000000      0.000000     1.000000  2006.000000   34900.000000  \n",
            "25%       0.000000      0.000000     5.000000  2007.000000  129975.000000  \n",
            "50%       0.000000      0.000000     6.000000  2008.000000  163000.000000  \n",
            "75%       0.000000      0.000000     8.000000  2009.000000  214000.000000  \n",
            "max     738.000000  15500.000000    12.000000  2010.000000  755000.000000  \n",
            "\n",
            "[8 rows x 38 columns]\n"
          ]
        }
      ]
    },
    {
      "cell_type": "markdown",
      "source": [
        "### Data Preprocessing\n",
        "##### Fill missing value, apply log transform for numeric columns and one-hot encoding for categorical variables"
      ],
      "metadata": {
        "id": "_j1-wRgWiZSC"
      }
    },
    {
      "cell_type": "code",
      "source": [
        "def preprocess_data(train, test):\n",
        "    # drop 'Id' column\n",
        "    train.drop(columns=['Id'], inplace=True)\n",
        "    test.drop(columns=['Id'], inplace=True)\n",
        "\n",
        "    # identify numeric and categorical columns in both datasets\n",
        "    num_cols_train = train.select_dtypes(include=['number']).columns\n",
        "    num_cols_test = test.select_dtypes(include=['number']).columns\n",
        "    cat_cols_train = train.select_dtypes(include=['object']).columns\n",
        "    cat_cols_test = test.select_dtypes(include=['object']).columns\n",
        "\n",
        "    # fill missing values\n",
        "\n",
        "    # replace NaN with 0 for numeric columns\n",
        "    train[num_cols_train] = train[num_cols_train].fillna(0)\n",
        "    test[num_cols_test] = test[num_cols_test].fillna(0)\n",
        "\n",
        "    # replace NaN with None for categorical columns\n",
        "    train[cat_cols_train] = train[cat_cols_train].fillna('None')\n",
        "    test[cat_cols_test] = test[cat_cols_test].fillna('None')\n",
        "\n",
        "    # apply log transform (excluding 'SalePrice') to numeric features\n",
        "    if 'SalePrice' in num_cols_train:\n",
        "        train[num_cols_train.difference(['SalePrice'])] = np.log1p(train[num_cols_train.difference(['SalePrice'])])\n",
        "        train['SalePrice'] = np.log1p(train['SalePrice'])\n",
        "    else:\n",
        "        train[num_cols_train] = np.log1p(train[num_cols_train])\n",
        "\n",
        "    # apply log transformation to numeric columns in the test set\n",
        "    test[num_cols_test] = np.log1p(test[num_cols_test])\n",
        "\n",
        "    # convert categorical variables into one-hot encoded features (binary representation)\n",
        "    train = pd.get_dummies(train, dtype=float)\n",
        "    test = pd.get_dummies(test, dtype=float)\n",
        "\n",
        "    return train, test\n"
      ],
      "metadata": {
        "id": "juy6tMXsHBrW"
      },
      "execution_count": 182,
      "outputs": []
    },
    {
      "cell_type": "code",
      "source": [
        "# Data Preprocessing\n",
        "# call `preprocess_data()` to clean the data, handle missing values, apply log transformation, and perform one-hot encoding for both datasets\n",
        "train_processed, test_processed = preprocess_data(train_data, test_data)\n",
        "\n",
        "# split the dataset into features (X) and target (y - SalePrice)\n",
        "X = train_processed.drop(columns=['SalePrice'])\n",
        "y = train_processed['SalePrice']\n",
        "\n",
        "# ensure the test set has the same columns as the train set\n",
        "X, test_processed = X.align(test_processed, join='left', axis=1, fill_value=0)\n",
        "\n",
        "# convert data to NumPy arrays\n",
        "X = X.values  # feature matrix\n",
        "y = y.values  # target values\n",
        "X_test = test_processed.values  # convert test set to NumPy array"
      ],
      "metadata": {
        "id": "6MS_3klwLM3Q"
      },
      "execution_count": 183,
      "outputs": []
    },
    {
      "cell_type": "markdown",
      "source": [
        "### Build Model\n",
        "#### Using Ridge Regression"
      ],
      "metadata": {
        "id": "ZJWATgPyicRt"
      }
    },
    {
      "cell_type": "code",
      "source": [
        "class RidgeRegression:\n",
        "    def __init__(self, alpha=1.0):\n",
        "        # alpha (float): parameters - higher values increase regularization\n",
        "        self.alpha = alpha\n",
        "        self.theta = None\n",
        "\n",
        "    def fit(self, X, y):\n",
        "        \"\"\" Train Ridge Regression model using Normal Equation \"\"\"\n",
        "        # add bias term (column of ones) to the feature matrix\n",
        "        X_b = np.c_[np.ones((X.shape[0], 1)), X]\n",
        "        # get the number of features (including bias)\n",
        "        n_features = X_b.shape[1]\n",
        "\n",
        "        # create an identity matrix for regularization\n",
        "        I = np.eye(n_features)\n",
        "        I[0, 0] = 0  # bias term should not be regularized\n",
        "\n",
        "        # compute theta using normal equation\n",
        "        A = X_b.T @ X_b + self.alpha * I  # (X^T * X + λI)\n",
        "        b = X_b.T @ y                     #(X^T * y)\n",
        "\n",
        "        # solve for theta using least squares\n",
        "        self.theta, _, _, _ = np.linalg.lstsq(A, b, rcond=None)\n",
        "\n",
        "        # return trained model\n",
        "        return self\n",
        "\n",
        "    # make predictions using trained model\n",
        "    def predict(self, X):\n",
        "        \"\"\" Make predictions using trained model \"\"\"\n",
        "        # add bias term (column of ones) to the feature matrix\n",
        "        X_b = np.c_[np.ones((X.shape[0], 1)), X]\n",
        "\n",
        "        # y_pred = X_b * theta\n",
        "        return X_b.dot(self.theta)"
      ],
      "metadata": {
        "id": "ypxP3nR6ewVr"
      },
      "execution_count": 184,
      "outputs": []
    },
    {
      "cell_type": "markdown",
      "source": [
        "### Model Training"
      ],
      "metadata": {
        "id": "Wmd4Ns7AilA6"
      }
    },
    {
      "cell_type": "code",
      "source": [
        "# train model with L2 regularization (alpha = 1.0)\n",
        "ridge_model = RidgeRegression(alpha=1.0)\n",
        "# fit model to the training data\n",
        "ridge_model.fit(X, y)\n",
        "\n",
        "# make predictions\n",
        "y_pred = ridge_model.predict(X_test)\n",
        "# apply the exponential function to revert target back to the original scale.\n",
        "y_pred = np.exp(y_pred)"
      ],
      "metadata": {
        "id": "1SQFoTzZgT5r"
      },
      "execution_count": 185,
      "outputs": []
    },
    {
      "cell_type": "markdown",
      "source": [
        "### Export CSV File"
      ],
      "metadata": {
        "id": "QmoVHLvpePX3"
      }
    },
    {
      "cell_type": "code",
      "source": [
        "# create a DataFrame for submission with proper format\n",
        "submission = pd.DataFrame({'Id': test_data.index + 1461, 'SalePrice': y_pred})\n",
        "# export csv file\n",
        "submission.to_csv('submission.csv', index=False)\n",
        "print(\"Export submission file successfully!\")"
      ],
      "metadata": {
        "colab": {
          "base_uri": "https://localhost:8080/"
        },
        "id": "8GsU5WNadakS",
        "outputId": "5fa6840a-66e4-4e5f-c86f-fa6f222d5c55"
      },
      "execution_count": 186,
      "outputs": [
        {
          "output_type": "stream",
          "name": "stdout",
          "text": [
            "Export submission file successfully!\n"
          ]
        }
      ]
    },
    {
      "cell_type": "markdown",
      "source": [
        "## Kaggle Submission\n",
        "#### Link submission: https://drive.google.com/file/d/12lfy8j4-1CbZv3ZgMH0SjvX_Okyhbxph/view?usp=drive_link"
      ],
      "metadata": {
        "id": "9Okh_J3TeIjM"
      }
    }
  ]
}